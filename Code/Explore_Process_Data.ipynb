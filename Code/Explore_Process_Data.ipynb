{
 "cells": [
  {
   "cell_type": "markdown",
   "metadata": {},
   "source": [
    "### Read the csv files in as dataframes"
   ]
  },
  {
   "cell_type": "code",
   "execution_count": 10,
   "metadata": {},
   "outputs": [],
   "source": [
    "import pandas as pd\n",
    "\n",
    "GRS = pd.read_csv(\"C:\\\\Users\\\\ks121\\\\OneDrive\\\\Documents\\\\Coding\\\\Shark_Identification\\\\Data\\\\Grey_Reef_Shark.csv\")\n",
    "BTRS = pd.read_csv(\"C:\\\\Users\\\\ks121\\\\OneDrive\\\\Documents\\\\Coding\\\\Shark_Identification\\\\Data\\\\Blacktip_Reef_Shark.csv\")\n",
    "BRS = pd.read_csv(\"C:\\\\Users\\\\ks121\\\\OneDrive\\\\Documents\\\\Coding\\\\Shark_Identification\\\\Data\\\\Blacktip_Shark.csv\")\n",
    "TS = pd.read_csv(\"C:\\\\Users\\\\ks121\\\\OneDrive\\\\Documents\\\\Coding\\\\Shark_Identification\\\\Data\\\\Tiger_Shark.csv\")\n",
    "STS = pd.read_csv(\"C:\\\\Users\\\\ks121\\\\OneDrive\\\\Documents\\\\Coding\\\\Shark_Identification\\\\Data\\\\Silvertip_Shark.csv\")\n",
    "WTRS = pd.read_csv(\"C:\\\\Users\\\\ks121\\\\OneDrive\\\\Documents\\\\Coding\\\\Shark_Identification\\\\Data\\\\Whitetip_Reef_Shark.csv\")"
   ]
  },
  {
   "cell_type": "markdown",
   "metadata": {},
   "source": []
  },
  {
   "cell_type": "markdown",
   "metadata": {},
   "source": [
    "### Takes a look to see if we have the urls we are looking for"
   ]
  },
  {
   "cell_type": "code",
   "execution_count": 11,
   "metadata": {},
   "outputs": [
    {
     "data": {
      "text/plain": [
       "0    https://inaturalist-open-data.s3.amazonaws.com...\n",
       "1    https://inaturalist-open-data.s3.amazonaws.com...\n",
       "2    http://static.inaturalist.org/photos/220236/me...\n",
       "3    http://static.inaturalist.org/photos/220558/me...\n",
       "4    http://static.inaturalist.org/photos/220560/me...\n",
       "Name: image_url, dtype: object"
      ]
     },
     "execution_count": 11,
     "metadata": {},
     "output_type": "execute_result"
    }
   ],
   "source": [
    "GRS[\"image_url\"].head()"
   ]
  },
  {
   "cell_type": "markdown",
   "metadata": {},
   "source": [
    "### Stores the urls in np arrays"
   ]
  },
  {
   "cell_type": "code",
   "execution_count": 12,
   "metadata": {},
   "outputs": [],
   "source": [
    "import os.path\n",
    "import urllib.request\n",
    "\n",
    "import numpy as np\n",
    "from PIL import Image\n",
    "\n",
    "GRS_PATH = \"C:\\\\Users\\\\ks121\\\\OneDrive\\\\Documents\\\\Coding\\\\Shark_Identification\\\\Data\\\\Grey_Reef_Shark\\\\\"\n",
    "BTRS_PATH = \"C:\\\\Users\\\\ks121\\\\OneDrive\\\\Documents\\\\Coding\\\\Shark_Identification\\\\Data\\\\Blacktip_Reef_Shark\\\\\"\n",
    "BTS_PATH = \"C:\\\\Users\\\\ks121\\\\OneDrive\\\\Documents\\\\Coding\\\\Shark_Identification\\\\Data\\\\Blacktip_Shark\\\\\"\n",
    "TS_PATH = \"C:\\\\Users\\\\ks121\\\\OneDrive\\\\Documents\\\\Coding\\\\Shark_Identification\\\\Data\\\\Tiger_Shark\\\\\"\n",
    "STS_PATH = \"C:\\\\Users\\\\ks121\\\\OneDrive\\\\Documents\\\\Coding\\\\Shark_Identification\\\\Data\\\\Silvertip_Shark\\\\\"\n",
    "WTRS_PATH = \"C:\\\\Users\\\\ks121\\\\OneDrive\\\\Documents\\\\Coding\\\\Shark_Identification\\\\Data\\\\Whitetip_Reef_Shark\\\\\"\n",
    "\n",
    "GRS_List = np.array([i for i in GRS[\"image_url\"]])\n",
    "BTRS_List = np.array([i for i in BTRS[\"image_url\"]])\n",
    "BTS_List = np.array([i for i in BRS[\"image_url\"]])\n",
    "TS_List = np.array([i for i in TS[\"image_url\"]])\n",
    "STS_List = np.array([i for i in STS[\"image_url\"]])\n",
    "WTRS_List = np.array([i for i in WTRS[\"image_url\"]])"
   ]
  },
  {
   "cell_type": "markdown",
   "metadata": {},
   "source": [
    "### Grabs and stores the images for each class in separate directories individually; AWS might try to cut your connection"
   ]
  },
  {
   "cell_type": "code",
   "execution_count": 21,
   "metadata": {},
   "outputs": [],
   "source": [
    "for i, url in enumerate(GRS_List):\n",
    "    urllib.request.urlretrieve(url, os.path.join(GRS_PATH, f\"GRS_{i}.jpg\"))"
   ]
  },
  {
   "cell_type": "code",
   "execution_count": 14,
   "metadata": {},
   "outputs": [],
   "source": [
    "for i, url in enumerate(BTRS_List):\n",
    "    urllib.request.urlretrieve(url, os.path.join(BTRS_PATH, f\"BTRS_{i}.jpg\"))"
   ]
  },
  {
   "cell_type": "code",
   "execution_count": 29,
   "metadata": {},
   "outputs": [
    {
     "data": {
      "text/plain": [
       "('C:\\\\Users\\\\ks121\\\\OneDrive\\\\Documents\\\\Coding\\\\Shark_Identification\\\\Data\\\\Blacktip_Reef_Shark\\\\BTRS_882.jpg',\n",
       " <http.client.HTTPMessage at 0x24e0c9cac10>)"
      ]
     },
     "execution_count": 29,
     "metadata": {},
     "output_type": "execute_result"
    }
   ],
   "source": [
    "urllib.request.urlretrieve(BTRS_List[882], os.path.join(BTRS_PATH, f\"BTRS_882.jpg\"))"
   ]
  },
  {
   "cell_type": "code",
   "execution_count": 15,
   "metadata": {},
   "outputs": [],
   "source": [
    "for i, url in enumerate(BTS_List):\n",
    "    urllib.request.urlretrieve(url, os.path.join(BTS_PATH, f\"BTS_{i}.jpg\"))"
   ]
  },
  {
   "cell_type": "code",
   "execution_count": 16,
   "metadata": {},
   "outputs": [],
   "source": [
    "for i, url in enumerate(TS_List):\n",
    "    urllib.request.urlretrieve(url, os.path.join(TS_PATH, f\"TS_{i}.jpg\"))"
   ]
  },
  {
   "cell_type": "code",
   "execution_count": 17,
   "metadata": {},
   "outputs": [],
   "source": [
    "for i, url in enumerate(STS_List):\n",
    "    urllib.request.urlretrieve(url, os.path.join(STS_PATH, f\"STS_{i}.jpg\"))"
   ]
  },
  {
   "cell_type": "code",
   "execution_count": 22,
   "metadata": {},
   "outputs": [
    {
     "ename": "AttributeError",
     "evalue": "'enumerate' object has no attribute 'take'",
     "output_type": "error",
     "traceback": [
      "\u001b[1;31m---------------------------------------------------------------------------\u001b[0m",
      "\u001b[1;31mAttributeError\u001b[0m                            Traceback (most recent call last)",
      "\u001b[1;32mc:\\Users\\ks121\\OneDrive\\Documents\\Coding\\Shark_identification\\Code\\Explore_Process_Data.ipynb Cell 14\u001b[0m in \u001b[0;36m<cell line: 1>\u001b[1;34m()\u001b[0m\n\u001b[1;32m----> <a href='vscode-notebook-cell:/c%3A/Users/ks121/OneDrive/Documents/Coding/Shark_identification/Code/Explore_Process_Data.ipynb#X12sZmlsZQ%3D%3D?line=0'>1</a>\u001b[0m \u001b[39mfor\u001b[39;00m i, url \u001b[39min\u001b[39;00m \u001b[39menumerate\u001b[39;49m(WTRS_List)\u001b[39m.\u001b[39;49mtake(\u001b[39m700\u001b[39m):\n\u001b[0;32m      <a href='vscode-notebook-cell:/c%3A/Users/ks121/OneDrive/Documents/Coding/Shark_identification/Code/Explore_Process_Data.ipynb#X12sZmlsZQ%3D%3D?line=1'>2</a>\u001b[0m     urllib\u001b[39m.\u001b[39mrequest\u001b[39m.\u001b[39murlretrieve(url, os\u001b[39m.\u001b[39mpath\u001b[39m.\u001b[39mjoin(WTRS_PATH, \u001b[39mf\u001b[39m\u001b[39m\"\u001b[39m\u001b[39mWTRS_\u001b[39m\u001b[39m{\u001b[39;00mi\u001b[39m}\u001b[39;00m\u001b[39m.jpg \u001b[39m\u001b[39m\"\u001b[39m))\n",
      "\u001b[1;31mAttributeError\u001b[0m: 'enumerate' object has no attribute 'take'"
     ]
    }
   ],
   "source": [
    "for i, url in enumerate(WTRS_List):\n",
    "    urllib.request.urlretrieve(url, os.path.join(WTRS_PATH, f\"WTRS_{i}.jpg \"))"
   ]
  },
  {
   "cell_type": "markdown",
   "metadata": {},
   "source": [
    "### The images have different sizes. I want to look to see what kind of distribution they have\n",
    "Also looks like some have shape issues and it exludes those from the plot"
   ]
  },
  {
   "cell_type": "code",
   "execution_count": 19,
   "metadata": {},
   "outputs": [],
   "source": [
    "import cv2\n",
    "\n",
    "width = []\n",
    "height = []\n",
    "aspect_ratio = []\n",
    "\n",
    "for i, url in enumerate(GRS_List):\n",
    "    img = cv2.imread(os.path.join(GRS_PATH, f\"GRS_{i}.png\"))\n",
    "    shape = np.shape(img)\n",
    "\n",
    "    try:\n",
    "        width.append(shape[0])\n",
    "        height.append(shape[1])\n",
    "        aspect_ratio.append(shape[0]/shape[1])\n",
    "    except:\n",
    "        print(f\"Something is up with {i}\")"
   ]
  },
  {
   "cell_type": "code",
   "execution_count": 20,
   "metadata": {},
   "outputs": [
    {
     "data": {
      "image/png": "[encoded data removed]",
      "text/plain": [
       "<Figure size 432x288 with 1 Axes>"
      ]
     },
     "metadata": {
      "needs_background": "light"
     },
     "output_type": "display_data"
    }
   ],
   "source": [
    "import matplotlib.pyplot as plt\n",
    "\n",
    "%matplotlib inline\n",
    "plt.hist(width)\n",
    "plt.hist(height)\n",
    "#plt.hist(aspect_ratio)\n",
    "plt.show()"
   ]
  },
  {
   "cell_type": "code",
   "execution_count": 41,
   "metadata": {},
   "outputs": [],
   "source": [
    "GRS_PATH_PNG = \"C:\\\\Users\\\\ks121\\\\OneDrive\\\\Documents\\\\Coding\\\\Shark_Identification\\\\Data\\\\Grey_Reef_Shark_PNG\\\\\"\n",
    "BTRS_PATH_PNG = \"C:\\\\Users\\\\ks121\\\\OneDrive\\\\Documents\\\\Coding\\\\Shark_Identification\\\\Data\\\\Blacktip_Reef_Shark_PNG\\\\\"\n",
    "BTS_PATH_PNG = \"C:\\\\Users\\\\ks121\\\\OneDrive\\\\Documents\\\\Coding\\\\Shark_Identification\\\\Data\\\\Blacktip_Shark_PNG\\\\\"\n",
    "WTRS_PATH_PNG = \"C:\\\\Users\\\\ks121\\\\OneDrive\\\\Documents\\\\Coding\\\\Shark_Identification\\\\Data\\\\Whitetip_Reef_Shark_PNG\\\\\""
   ]
  },
  {
   "cell_type": "code",
   "execution_count": 42,
   "metadata": {},
   "outputs": [],
   "source": [
    "GRS_Images = os.listdir(GRS_PATH)\n",
    "BTRS_Images = os.listdir(BTRS_PATH)\n",
    "BTS_Images = os.listdir(BTS_PATH)\n",
    "WTRS_Images = os.listdir(WTRS_PATH)"
   ]
  },
  {
   "cell_type": "code",
   "execution_count": 53,
   "metadata": {},
   "outputs": [],
   "source": [
    "import cv2\n",
    "\n",
    "for i, im in enumerate(GRS_Images):\n",
    "    image_path = os.path.join(GRS_PATH, im)\n",
    "    imy_boi = cv2.imread(image_path)\n",
    "    cv2.imwrite(os.path.join(GRS_PATH_PNG, f\"GRS_Image_{i}.png\"), imy_boi)"
   ]
  },
  {
   "cell_type": "code",
   "execution_count": 54,
   "metadata": {},
   "outputs": [],
   "source": [
    "for i, im in enumerate(BTRS_Images):\n",
    "    image_path = os.path.join(BTRS_PATH, im)\n",
    "    imy_boi = cv2.imread(image_path)\n",
    "    cv2.imwrite(os.path.join(BTRS_PATH_PNG, f\"BTRS_Image_{i}.png\"), imy_boi)"
   ]
  },
  {
   "cell_type": "code",
   "execution_count": 55,
   "metadata": {},
   "outputs": [],
   "source": [
    "for i, im in enumerate(BTS_Images):\n",
    "    image_path = os.path.join(BTS_PATH, im)\n",
    "    imy_boi = cv2.imread(image_path)\n",
    "    cv2.imwrite(os.path.join(BTS_PATH_PNG, f\"BTS_Image_{i}.png\"), imy_boi)"
   ]
  },
  {
   "cell_type": "code",
   "execution_count": 56,
   "metadata": {},
   "outputs": [],
   "source": [
    "for i, im in enumerate(WTRS_Images):\n",
    "    image_path = os.path.join(WTRS_PATH, im)\n",
    "    imy_boi = cv2.imread(image_path)\n",
    "    cv2.imwrite(os.path.join(WTRS_PATH_PNG, f\"WTRS_Image_{i}.png\"), imy_boi)"
   ]
  }
 ],
 "metadata": {
  "kernelspec": {
   "display_name": "Python 3.9.12 ('DLenv')",
   "language": "python",
   "name": "python3"
  },
  "language_info": {
   "codemirror_mode": {
    "name": "ipython",
    "version": 3
   },
   "file_extension": ".py",
   "mimetype": "text/x-python",
   "name": "python",
   "nbconvert_exporter": "python",
   "pygments_lexer": "ipython3",
   "version": "3.9.12"
  },
  "orig_nbformat": 4,
  "vscode": {
   "interpreter": {
    "hash": "aca09107a6b882a2dc81854537f4b088999b3dfe18f24b59d37d27c82e0b0bdb"
   }
  }
 },
 "nbformat": 4,
 "nbformat_minor": 2
}
