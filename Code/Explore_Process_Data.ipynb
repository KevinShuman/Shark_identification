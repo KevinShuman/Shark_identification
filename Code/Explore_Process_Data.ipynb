{
 "cells": [
  {
   "cell_type": "markdown",
   "metadata": {},
   "source": [
    "### Read the csv files in as dataframes"
   ]
  },
  {
   "cell_type": "code",
   "execution_count": 1,
   "metadata": {},
   "outputs": [],
   "source": [
    "import pandas as pd\n",
    "\n",
    "GRS = pd.read_csv(\"C:\\\\Users\\\\ks121\\\\OneDrive\\\\Documents\\\\Coding\\\\Shark_Identification\\\\Data\\\\Grey_Reef_Shark.csv\")\n",
    "BTRS = pd.read_csv(\"C:\\\\Users\\\\ks121\\\\OneDrive\\\\Documents\\\\Coding\\\\Shark_Identification\\\\Data\\\\Blacktip_Reef_Shark.csv\")\n",
    "BRS = pd.read_csv(\"C:\\\\Users\\\\ks121\\\\OneDrive\\\\Documents\\\\Coding\\\\Shark_Identification\\\\Data\\\\Blacktip_Shark.csv\")\n",
    "TS = pd.read_csv(\"C:\\\\Users\\\\ks121\\\\OneDrive\\\\Documents\\\\Coding\\\\Shark_Identification\\\\Data\\\\Tiger_Shark.csv\")\n",
    "STS = pd.read_csv(\"C:\\\\Users\\\\ks121\\\\OneDrive\\\\Documents\\\\Coding\\\\Shark_Identification\\\\Data\\\\Silvertip_Shark.csv\")\n",
    "WTRS = pd.read_csv(\"C:\\\\Users\\\\ks121\\\\OneDrive\\\\Documents\\\\Coding\\\\Shark_Identification\\\\Data\\\\Whitetip_Reef_Shark.csv\")"
   ]
  },
  {
   "cell_type": "markdown",
   "metadata": {},
   "source": []
  },
  {
   "cell_type": "markdown",
   "metadata": {},
   "source": [
    "### Takes a look to see if we have the urls we are looking for"
   ]
  },
  {
   "cell_type": "code",
   "execution_count": 2,
   "metadata": {},
   "outputs": [
    {
     "data": {
      "text/plain": [
       "0    https://inaturalist-open-data.s3.amazonaws.com...\n",
       "1    https://inaturalist-open-data.s3.amazonaws.com...\n",
       "2    http://static.inaturalist.org/photos/220236/me...\n",
       "3    http://static.inaturalist.org/photos/220558/me...\n",
       "4    http://static.inaturalist.org/photos/220560/me...\n",
       "Name: image_url, dtype: object"
      ]
     },
     "execution_count": 2,
     "metadata": {},
     "output_type": "execute_result"
    }
   ],
   "source": [
    "GRS[\"image_url\"].head()"
   ]
  },
  {
   "cell_type": "markdown",
   "metadata": {},
   "source": [
    "### Stores the urls in np arrays"
   ]
  },
  {
   "cell_type": "code",
   "execution_count": 5,
   "metadata": {},
   "outputs": [],
   "source": [
    "import os.path\n",
    "import urllib.request\n",
    "\n",
    "import numpy as np\n",
    "from PIL import Image\n",
    "\n",
    "GRS_PATH = \"C:\\\\Users\\\\ks121\\\\OneDrive\\\\Documents\\\\Coding\\\\Shark_Identification\\\\Data\\\\Grey_Reef_Shark\\\\\"\n",
    "BTRS_PATH = \"C:\\\\Users\\\\ks121\\\\OneDrive\\\\Documents\\\\Coding\\\\Shark_Identification\\\\Data\\\\Blacktip_Reef_Shark\\\\\"\n",
    "BTS_PATH = \"C:\\\\Users\\\\ks121\\\\OneDrive\\\\Documents\\\\Coding\\\\Shark_Identification\\\\Data\\\\Blacktip_Shark\\\\\"\n",
    "TS_PATH = \"C:\\\\Users\\\\ks121\\\\OneDrive\\\\Documents\\\\Coding\\\\Shark_Identification\\\\Data\\\\Tiger_Shark\\\\\"\n",
    "STS_PATH = \"C:\\\\Users\\\\ks121\\\\OneDrive\\\\Documents\\\\Coding\\\\Shark_Identification\\\\Data\\\\Silvertip_Shark\\\\\"\n",
    "WTRS_PATH = \"C:\\\\Users\\\\ks121\\\\OneDrive\\\\Documents\\\\Coding\\\\Shark_Identification\\\\Data\\\\Whitetip_Reef_Shark\\\\\"\n",
    "\n",
    "GRS_List = np.array([i for i in GRS[\"image_url\"]])\n",
    "BTRS_List = np.array([i for i in BTRS[\"image_url\"]])\n",
    "BTS_List = np.array([i for i in BRS[\"image_url\"]])\n",
    "TS_List = np.array([i for i in TS[\"image_url\"]])\n",
    "STS_List = np.array([i for i in STS[\"image_url\"]])\n",
    "WTRS_List = np.array([i for i in WTRS[\"image_url\"]])"
   ]
  },
  {
   "cell_type": "markdown",
   "metadata": {},
   "source": [
    "### Grabs and stores the images for each class in separate directories individually"
   ]
  },
  {
   "cell_type": "code",
   "execution_count": 6,
   "metadata": {},
   "outputs": [],
   "source": [
    "for i, url in enumerate(GRS_List):\n",
    "    urllib.request.urlretrieve(url, os.path.join(GRS_PATH, f\"GRS_{i}.png\"))"
   ]
  },
  {
   "cell_type": "code",
   "execution_count": 7,
   "metadata": {},
   "outputs": [],
   "source": [
    "for i, url in enumerate(BTRS_List):\n",
    "    urllib.request.urlretrieve(url, os.path.join(BTRS_PATH, f\"BTRS_{i}.png\"))"
   ]
  },
  {
   "cell_type": "code",
   "execution_count": 8,
   "metadata": {},
   "outputs": [],
   "source": [
    "for i, url in enumerate(BTS_List):\n",
    "    urllib.request.urlretrieve(url, os.path.join(BTS_PATH, f\"BTS_{i}.png\"))"
   ]
  },
  {
   "cell_type": "code",
   "execution_count": 9,
   "metadata": {},
   "outputs": [],
   "source": [
    "for i, url in enumerate(TS_List):\n",
    "    urllib.request.urlretrieve(url, os.path.join(TS_PATH, f\"TS_{i}.png\"))"
   ]
  },
  {
   "cell_type": "code",
   "execution_count": 10,
   "metadata": {},
   "outputs": [],
   "source": [
    "for i, url in enumerate(STS_List):\n",
    "    urllib.request.urlretrieve(url, os.path.join(STS_PATH, f\"STS_{i}.png\"))"
   ]
  },
  {
   "cell_type": "code",
   "execution_count": 11,
   "metadata": {},
   "outputs": [],
   "source": [
    "for i, url in enumerate(WTRS_List):\n",
    "    urllib.request.urlretrieve(url, os.path.join(WTRS_PATH, f\"WTRS_{i}.png\"))"
   ]
  },
  {
   "cell_type": "markdown",
   "metadata": {},
   "source": [
    "### The images have different sizes. I want to look to see what kind of distribution they have\n",
    "Also looks like some have shape issues and it exludes those from the plot"
   ]
  },
  {
   "cell_type": "code",
   "execution_count": 31,
   "metadata": {},
   "outputs": [
    {
     "name": "stdout",
     "output_type": "stream",
     "text": [
      "Something is up with 398\n",
      "Something is up with 399\n"
     ]
    }
   ],
   "source": [
    "import cv2\n",
    "\n",
    "width = []\n",
    "height = []\n",
    "aspect_ratio = []\n",
    "\n",
    "for i, url in enumerate(GRS_List):\n",
    "    img = cv2.imread(os.path.join(GRS_PATH, f\"GRS_{i}.png\"))\n",
    "    shape = np.shape(img)\n",
    "\n",
    "    try:\n",
    "        width.append(shape[0])\n",
    "        height.append(shape[1])\n",
    "        aspect_ratio.append(shape[0]/shape[1])\n",
    "    except:\n",
    "        print(f\"Something is up with {i}\")"
   ]
  },
  {
   "cell_type": "code",
   "execution_count": 32,
   "metadata": {},
   "outputs": [
    {
     "data": {
      "image/png": "[encoded data removed]",
      "text/plain": [
       "<Figure size 432x288 with 1 Axes>"
      ]
     },
     "metadata": {
      "needs_background": "light"
     },
     "output_type": "display_data"
    }
   ],
   "source": [
    "import matplotlib.pyplot as plt\n",
    "\n",
    "%matplotlib inline\n",
    "#plt.hist(width)\n",
    "#plt.hist(height)\n",
    "plt.hist(aspect_ratio)\n",
    "plt.show()"
   ]
  }
 ],
 "metadata": {
  "kernelspec": {
   "display_name": "Python 3.9.12 ('DLenv')",
   "language": "python",
   "name": "python3"
  },
  "language_info": {
   "codemirror_mode": {
    "name": "ipython",
    "version": 3
   },
   "file_extension": ".py",
   "mimetype": "text/x-python",
   "name": "python",
   "nbconvert_exporter": "python",
   "pygments_lexer": "ipython3",
   "version": "3.9.12"
  },
  "orig_nbformat": 4,
  "vscode": {
   "interpreter": {
    "hash": "aca09107a6b882a2dc81854537f4b088999b3dfe18f24b59d37d27c82e0b0bdb"
   }
  }
 },
 "nbformat": 4,
 "nbformat_minor": 2
}
